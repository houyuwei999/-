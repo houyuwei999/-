{
 "cells": [
  {
   "cell_type": "code",
   "execution_count": 187,
   "id": "b2c91c53",
   "metadata": {},
   "outputs": [
    {
     "name": "stdout",
     "output_type": "stream",
     "text": [
      "(800, 12)\n"
     ]
    },
    {
     "name": "stderr",
     "output_type": "stream",
     "text": [
      "<ipython-input-187-2f63cc49f982>:10: ParserWarning: Falling back to the 'python' engine because the 'c' engine does not support regex separators (separators > 1 char and different from '\\s+' are interpreted as regex); you can avoid this warning by specifying engine='python'.\n",
      "  df = pd.read_csv(data_dir + '/winequality-white 2022.csv', sep = '\\;')\n"
     ]
    },
    {
     "data": {
      "text/html": [
       "<div>\n",
       "<style scoped>\n",
       "    .dataframe tbody tr th:only-of-type {\n",
       "        vertical-align: middle;\n",
       "    }\n",
       "\n",
       "    .dataframe tbody tr th {\n",
       "        vertical-align: top;\n",
       "    }\n",
       "\n",
       "    .dataframe thead th {\n",
       "        text-align: right;\n",
       "    }\n",
       "</style>\n",
       "<table border=\"1\" class=\"dataframe\">\n",
       "  <thead>\n",
       "    <tr style=\"text-align: right;\">\n",
       "      <th></th>\n",
       "      <th>\"fixed acidity</th>\n",
       "      <th>\"\"volatile acidity\"\"</th>\n",
       "      <th>\"\"citric acid\"\"</th>\n",
       "      <th>\"\"residual sugar\"\"</th>\n",
       "      <th>\"\"chlorides\"\"</th>\n",
       "      <th>\"\"free sulfur dioxide\"\"</th>\n",
       "      <th>\"\"total sulfur dioxide\"\"</th>\n",
       "      <th>\"\"density\"\"</th>\n",
       "      <th>\"\"pH\"\"</th>\n",
       "      <th>\"\"sulphates\"\"</th>\n",
       "      <th>\"\"alcohol\"\"</th>\n",
       "      <th>\"\"quality\"\"\"</th>\n",
       "    </tr>\n",
       "  </thead>\n",
       "  <tbody>\n",
       "    <tr>\n",
       "      <th>0</th>\n",
       "      <td>7.4</td>\n",
       "      <td>0.70</td>\n",
       "      <td>0.00</td>\n",
       "      <td>1.9</td>\n",
       "      <td>0.076</td>\n",
       "      <td>11.0</td>\n",
       "      <td>34.0</td>\n",
       "      <td>0.9978</td>\n",
       "      <td>3.51</td>\n",
       "      <td>0.56</td>\n",
       "      <td>9.4</td>\n",
       "      <td>5</td>\n",
       "    </tr>\n",
       "    <tr>\n",
       "      <th>1</th>\n",
       "      <td>7.8</td>\n",
       "      <td>0.88</td>\n",
       "      <td>0.00</td>\n",
       "      <td>2.6</td>\n",
       "      <td>0.098</td>\n",
       "      <td>25.0</td>\n",
       "      <td>67.0</td>\n",
       "      <td>0.9968</td>\n",
       "      <td>3.20</td>\n",
       "      <td>0.68</td>\n",
       "      <td>9.8</td>\n",
       "      <td>5</td>\n",
       "    </tr>\n",
       "    <tr>\n",
       "      <th>2</th>\n",
       "      <td>7.8</td>\n",
       "      <td>0.76</td>\n",
       "      <td>0.04</td>\n",
       "      <td>2.3</td>\n",
       "      <td>0.092</td>\n",
       "      <td>15.0</td>\n",
       "      <td>54.0</td>\n",
       "      <td>0.9970</td>\n",
       "      <td>3.26</td>\n",
       "      <td>0.65</td>\n",
       "      <td>9.8</td>\n",
       "      <td>5</td>\n",
       "    </tr>\n",
       "    <tr>\n",
       "      <th>3</th>\n",
       "      <td>11.2</td>\n",
       "      <td>0.28</td>\n",
       "      <td>0.56</td>\n",
       "      <td>1.9</td>\n",
       "      <td>0.075</td>\n",
       "      <td>17.0</td>\n",
       "      <td>60.0</td>\n",
       "      <td>0.9980</td>\n",
       "      <td>3.16</td>\n",
       "      <td>0.58</td>\n",
       "      <td>9.8</td>\n",
       "      <td>5</td>\n",
       "    </tr>\n",
       "    <tr>\n",
       "      <th>4</th>\n",
       "      <td>7.4</td>\n",
       "      <td>0.70</td>\n",
       "      <td>0.00</td>\n",
       "      <td>1.9</td>\n",
       "      <td>0.076</td>\n",
       "      <td>11.0</td>\n",
       "      <td>34.0</td>\n",
       "      <td>0.9978</td>\n",
       "      <td>3.51</td>\n",
       "      <td>0.56</td>\n",
       "      <td>9.4</td>\n",
       "      <td>5</td>\n",
       "    </tr>\n",
       "  </tbody>\n",
       "</table>\n",
       "</div>"
      ],
      "text/plain": [
       "   \"fixed acidity  \"\"volatile acidity\"\"  \"\"citric acid\"\"  \"\"residual sugar\"\"  \\\n",
       "0             7.4                  0.70             0.00                 1.9   \n",
       "1             7.8                  0.88             0.00                 2.6   \n",
       "2             7.8                  0.76             0.04                 2.3   \n",
       "3            11.2                  0.28             0.56                 1.9   \n",
       "4             7.4                  0.70             0.00                 1.9   \n",
       "\n",
       "   \"\"chlorides\"\"  \"\"free sulfur dioxide\"\"  \"\"total sulfur dioxide\"\"  \\\n",
       "0          0.076                     11.0                      34.0   \n",
       "1          0.098                     25.0                      67.0   \n",
       "2          0.092                     15.0                      54.0   \n",
       "3          0.075                     17.0                      60.0   \n",
       "4          0.076                     11.0                      34.0   \n",
       "\n",
       "   \"\"density\"\"  \"\"pH\"\"  \"\"sulphates\"\"  \"\"alcohol\"\"  \"\"quality\"\"\"  \n",
       "0       0.9978    3.51           0.56          9.4             5  \n",
       "1       0.9968    3.20           0.68          9.8             5  \n",
       "2       0.9970    3.26           0.65          9.8             5  \n",
       "3       0.9980    3.16           0.58          9.8             5  \n",
       "4       0.9978    3.51           0.56          9.4             5  "
      ]
     },
     "execution_count": 187,
     "metadata": {},
     "output_type": "execute_result"
    }
   ],
   "source": [
    "from sklearn.model_selection import train_test_split\n",
    "from sklearn.preprocessing import StandardScaler\n",
    "from sklearn.neighbors import KNeighborsClassifier\n",
    "from sklearn.metrics import classification_report, accuracy_score\n",
    "from sklearn.metrics import confusion_matrix\n",
    "import pandas as pd\n",
    "import numpy as np\n",
    "# Load the data\n",
    "data_dir = 'C:/Users/Dell/Desktop'\n",
    "df = pd.read_csv(data_dir + '/winequality-white 2022.csv', sep = '\\;')\n",
    "df = df[:800]\n",
    "print(df.shape)\n",
    "df.head()"
   ]
  },
  {
   "cell_type": "code",
   "execution_count": 209,
   "id": "08168fe3",
   "metadata": {},
   "outputs": [
    {
     "data": {
      "text/plain": [
       "count    800.000000\n",
       "mean       0.166250\n",
       "std        0.372538\n",
       "min        0.000000\n",
       "25%        0.000000\n",
       "50%        0.000000\n",
       "75%        0.000000\n",
       "max        1.000000\n",
       "Name: good wine, dtype: float64"
      ]
     },
     "execution_count": 209,
     "metadata": {},
     "output_type": "execute_result"
    }
   ],
   "source": [
    "# Construct column 'good wine'\n",
    "df['good wine'] = df['\"\"quality\"\"\"'].apply(lambda x: 1 if x>=6 else 0)\n",
    "df['good wine'].describe()"
   ]
  },
  {
   "cell_type": "code",
   "execution_count": 162,
   "id": "c71a100c",
   "metadata": {},
   "outputs": [
    {
     "name": "stdout",
     "output_type": "stream",
     "text": [
      "(600, 12)\n",
      "(200, 12)\n"
     ]
    }
   ],
   "source": [
    "# Generate Test Set \n",
    "X_origin, X_test, Y_origin, Y_test = train_test_split(df.iloc[:, :12], df.iloc[:, -1], test_size=0.250, random_state=0)\n",
    "print(X_origin.shape)\n",
    "print(X_test.shape)"
   ]
  },
  {
   "cell_type": "code",
   "execution_count": 163,
   "id": "5593ac16",
   "metadata": {},
   "outputs": [
    {
     "name": "stdout",
     "output_type": "stream",
     "text": [
      "Current Training set shape is: (400, 12)\n",
      "Current Validation set shape is: (200, 12)\n",
      "Current Testing set shape is: (200, 12)\n"
     ]
    }
   ],
   "source": [
    "# Generate Training and Validation Sets \n",
    "X_train, X_valid, Y_train, Y_valid = train_test_split(X_origin, Y_origin, test_size=0.333, random_state=0)\n",
    "print('Current Training set shape is:', X_train.shape)\n",
    "print('Current Validation set shape is:', X_valid.shape)\n",
    "print('Current Testing set shape is:', X_test.shape)"
   ]
  },
  {
   "cell_type": "code",
   "execution_count": 178,
   "id": "39f0faec",
   "metadata": {},
   "outputs": [
    {
     "data": {
      "text/plain": [
       "(array([[ 2.06221733e-01,  6.05153255e-01, -2.15347587e-01, ...,\n",
       "         -1.31224975e+00, -4.98380769e-01, -1.63777700e-01],\n",
       "        [-1.10146205e+00,  4.69741920e-01, -8.96288572e-01, ...,\n",
       "         -3.14640658e-01, -5.99216534e-01, -2.21099895e+00],\n",
       "        [ 9.38524652e-01, -4.51055156e-01,  4.16954757e-01, ...,\n",
       "         -2.62134916e-01, -5.99216534e-01, -1.63777700e-01],\n",
       "        ...,\n",
       "        [ 5.72373192e-01,  2.53083785e-01,  2.78456224e-02, ...,\n",
       "         -2.09629174e-01,  1.06633822e-01, -1.63777700e-01],\n",
       "        [-3.69159132e-01,  8.48893657e-01, -3.61263512e-01, ...,\n",
       "          1.57911019e-01, -7.00052299e-01, -1.63777700e-01],\n",
       "        [-3.00767270e-03, -1.37185223e+00,  2.22400190e-01, ...,\n",
       "          3.62328998e+00,  2.07469587e-01,  1.88344355e+00]]),\n",
       " array([[-0.5601507 ,  0.06220031, -0.87017219, ..., -0.78254711,\n",
       "         -0.7108312 , -0.1413925 ],\n",
       "        [-0.50859518, -0.82836347, -0.05288339, ...,  0.99117003,\n",
       "         -0.60088051, -0.1413925 ],\n",
       "        [-0.66326173, -0.04912016, -0.82209638, ..., -0.31800214,\n",
       "         -0.7108312 , -0.1413925 ],\n",
       "        ...,\n",
       "        [ 1.34740345, -2.05288867,  1.00478447, ...,  1.20232683,\n",
       "          0.05882362,  1.8785004 ],\n",
       "        [ 1.55362552,  0.17352079,  1.34131515, ..., -0.23353942,\n",
       "         -0.05112707, -0.1413925 ],\n",
       "        [-0.30237311,  0.70229303, -0.19711083, ..., -0.65585303,\n",
       "         -0.93073258, -2.16128541]]),\n",
       " array([[-1.03313529,  0.8432119 , -1.19324196, ...,  0.24523666,\n",
       "         -0.54870319, -0.22918782],\n",
       "        [-0.52916685, -0.02533255, -0.27144496, ..., -0.14557874,\n",
       "         -1.13817841, -0.22918782],\n",
       "        [-0.75315282,  0.8432119 , -0.90214817, ..., -0.86207363,\n",
       "         -0.64694906, -2.22212541],\n",
       "        ...,\n",
       "        [ 1.76668934, -0.54645921,  1.71769594, ...,  1.15713926,\n",
       "          0.23726378, -0.22918782],\n",
       "        [-0.36117738,  0.20627931, -0.12589806, ...,  3.95798294,\n",
       "         -0.8434408 , -0.22918782],\n",
       "        [ 0.47877001,  0.20627931, -0.36847622, ..., -0.14557874,\n",
       "         -0.05747383, -0.22918782]]))"
      ]
     },
     "execution_count": 178,
     "metadata": {},
     "output_type": "execute_result"
    }
   ],
   "source": [
    "# Z-score normalisation for training set, validation set and test set data\n",
    "scaler = StandardScaler()\n",
    "X_train, X_valid, X_test = scaler.fit_transform(X_train), scaler.fit_transform(X_valid), scaler.fit_transform(X_test)\n",
    "X_train, X_valid, X_test"
   ]
  },
  {
   "cell_type": "code",
   "execution_count": 194,
   "id": "f4a6ea90",
   "metadata": {},
   "outputs": [
    {
     "data": {
      "text/plain": [
       "3"
      ]
     },
     "execution_count": 194,
     "metadata": {},
     "output_type": "execute_result"
    }
   ],
   "source": [
    "# Load KNN with classifiers k = 1, 2,..., 100\n",
    "# Find optimised classifier k with highest accuracy(i.e.metric selected: accuracy_score)\n",
    "predict_dict = dict()\n",
    "for k in range(1, 101):\n",
    "    neigh = KNeighborsClassifier(n_neighbors=k)\n",
    "    neigh.fit(X_train, Y_train)\n",
    "    prediction_valid = neigh.predict(X_valid)\n",
    "    predict_dict[k] = accuracy_score(prediction_valid, Y_valid)\n",
    "K_1st = max(predict_dict, key=predict_dict.get)\n",
    "K_1st"
   ]
  },
  {
   "cell_type": "code",
   "execution_count": 196,
   "id": "ed5aaa46",
   "metadata": {},
   "outputs": [
    {
     "name": "stdout",
     "output_type": "stream",
     "text": [
      "0.98\n",
      "              precision    recall  f1-score   support\n",
      "\n",
      "           0       0.99      0.98      0.99       166\n",
      "           1       0.92      0.97      0.94        34\n",
      "\n",
      "    accuracy                           0.98       200\n",
      "   macro avg       0.96      0.98      0.97       200\n",
      "weighted avg       0.98      0.98      0.98       200\n",
      "\n",
      "[[163   3]\n",
      " [  1  33]]\n"
     ]
    }
   ],
   "source": [
    "# Test performance on Test set\n",
    "# Find generalisation error\n",
    "neigh_1st = KNeighborsClassifier(n_neighbors=K_1st)\n",
    "neigh_1st.fit(X_train, Y_train)\n",
    "predic_1st_test = neigh_1st.predict(X_test)\n",
    "print(accuracy_score(predic_1st_test, Y_test))\n",
    "print(classification_report(predic_1st_test, Y_test))\n",
    "print(confusion_matrix(predic_1st_test, Y_test))"
   ]
  },
  {
   "cell_type": "code",
   "execution_count": 212,
   "id": "df1fa6e6",
   "metadata": {},
   "outputs": [
    {
     "name": "stdout",
     "output_type": "stream",
     "text": [
      "0.97\n",
      "              precision    recall  f1-score   support\n",
      "\n",
      "           0       1.00      0.96      0.98       337\n",
      "           1       0.84      1.00      0.91        63\n",
      "\n",
      "    accuracy                           0.97       400\n",
      "   macro avg       0.92      0.98      0.95       400\n",
      "weighted avg       0.97      0.97      0.97       400\n",
      "\n",
      "[[325  12]\n",
      " [  0  63]]\n"
     ]
    }
   ],
   "source": [
    "# Redo steps 4 to 7 under new splitting\n",
    "X_origin, X_test, Y_origin, Y_test = train_test_split(df.iloc[:, :12], df.iloc[:, -1], test_size=0.500, random_state=0)\n",
    "X_train, X_valid, Y_train, Y_valid = train_test_split(X_origin, Y_origin, test_size=0.500, random_state=0)\n",
    "\n",
    "scaler = StandardScaler()\n",
    "X_train, X_valid, X_test = scaler.fit_transform(X_train), scaler.fit_transform(X_valid), scaler.fit_transform(X_test)\n",
    "\n",
    "predict_dict = dict()\n",
    "for k in range(1, 101):\n",
    "    neigh = KNeighborsClassifier(n_neighbors=k)\n",
    "    neigh.fit(X_train, Y_train)\n",
    "    prediction_valid = neigh.predict(X_valid)\n",
    "    predict_dict[k] = accuracy_score(prediction_valid, Y_valid)\n",
    "new_K_1st = max(predict_dict, key=predict_dict.get)\n",
    "new_K_1st\n",
    "\n",
    "new_neigh_1st = KNeighborsClassifier(n_neighbors=new_K_1st)\n",
    "new_neigh_1st.fit(X_train, Y_train)\n",
    "new_predic_1st_test = new_neigh_1st.predict(X_test)\n",
    "print(accuracy_score(new_predic_1st_test, Y_test))\n",
    "print(classification_report(new_predic_1st_test, Y_test))\n",
    "print(confusion_matrix(new_predic_1st_test, Y_test))"
   ]
  },
  {
   "cell_type": "code",
   "execution_count": null,
   "id": "f34ef9ac",
   "metadata": {},
   "outputs": [],
   "source": [
    "# Insight:  ? ? ?"
   ]
  }
 ],
 "metadata": {
  "kernelspec": {
   "display_name": "Python 3",
   "language": "python",
   "name": "python3"
  },
  "language_info": {
   "codemirror_mode": {
    "name": "ipython",
    "version": 3
   },
   "file_extension": ".py",
   "mimetype": "text/x-python",
   "name": "python",
   "nbconvert_exporter": "python",
   "pygments_lexer": "ipython3",
   "version": "3.8.8"
  }
 },
 "nbformat": 4,
 "nbformat_minor": 5
}
